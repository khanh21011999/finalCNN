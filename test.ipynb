{
 "cells": [
  {
   "cell_type": "code",
   "execution_count": 3,
   "metadata": {
    "collapsed": true,
    "pycharm": {
     "name": "#%%\n"
    }
   },
   "outputs": [],
   "source": [
    "import cv2\n",
    "from keras.models import load_model\n",
    "import tensorflow as tf\n",
    "import numpy as np\n",
    "from PIL import Image\n",
    "CATEGORIES=['CARS','CATS','DOGS','FLOWER','HUMANS','MOTOBIKES']"
   ]
  },
  {
   "cell_type": "code",
   "execution_count": 4,
   "metadata": {},
   "outputs": [
    {
     "output_type": "stream",
     "name": "stdout",
     "text": "DOGS\n"
    }
   ],
   "source": [
    "def prepare(filepath):\n",
    "    IMG_SIZE=256\n",
    "    img_array=cv2.imread(filepath)\n",
    "    #img_array=img_array/255\n",
    "    new_array= cv2.resize(img_array,(IMG_SIZE,IMG_SIZE))\n",
    "    return new_array.reshape(1,IMG_SIZE,IMG_SIZE,3)\n",
    "model=tf.keras.models.load_model('trained-model.h5',compile=False)\n",
    "\n",
    "#np.set_printoptions(formatter={'float_kind':'{:f}'.format})\n",
    "predict=model.predict([prepare('dog.34.jpg')])\n",
    "pred_name = CATEGORIES[np.argmax(predict)]\n",
    "print(pred_name)\n"
   ]
  },
  {
   "cell_type": "code",
   "execution_count": null,
   "metadata": {},
   "outputs": [],
   "source": []
  }
 ],
 "metadata": {
  "kernelspec": {
   "name": "python3",
   "language": "python",
   "display_name": "Python 3"
  },
  "language_info": {
   "codemirror_mode": {
    "name": "ipython",
    "version": 2
   },
   "file_extension": ".py",
   "mimetype": "text/x-python",
   "name": "python",
   "nbconvert_exporter": "python",
   "pygments_lexer": "ipython2",
   "version": "3.7.6-final"
  }
 },
 "nbformat": 4,
 "nbformat_minor": 0
}