{
 "cells": [
  {
   "cell_type": "code",
   "execution_count": 5,
   "metadata": {},
   "outputs": [],
   "source": [
    "from PIL import Image\n",
    "import numpy as np\n",
    "\n",
    "im = Image.open(\"D:\\CODE\\CNN\\\\final_project\\\\finalCNN\\dataset\\human\\human0.jpg\")\n",
    "im = (np.array(im))\n",
    "\n",
    "r = im[:,:,0].flatten()\n",
    "g = im[:,:,1].flatten()\n",
    "b = im[:,:,2].flatten()\n",
    "label = [1]\n",
    "\n",
    "out = np.array(list(label) + list(r) + list(g) + list(b),np.uint8)\n",
    "out.tofile(\"out.bin\")"
   ]
  },
  {
   "cell_type": "code",
   "execution_count": null,
   "metadata": {},
   "outputs": [],
   "source": []
  }
 ],
 "metadata": {
  "language_info": {
   "codemirror_mode": {
    "name": "ipython",
    "version": 3
   },
   "file_extension": ".py",
   "mimetype": "text/x-python",
   "name": "python",
   "nbconvert_exporter": "python",
   "pygments_lexer": "ipython3",
   "version": "3.7.7-final"
  },
  "orig_nbformat": 2,
  "kernelspec": {
   "name": "python3",
   "display_name": "Python 3"
  }
 },
 "nbformat": 4,
 "nbformat_minor": 2
}