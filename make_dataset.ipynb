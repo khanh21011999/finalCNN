{
 "cells": [
  {
   "cell_type": "code",
   "execution_count": 19,
   "metadata": {},
   "outputs": [],
   "source": [
    "from PIL import *\n",
    "from pathlib import *\n",
    "import numpy as np\n"
   ]
  },
  {
   "cell_type": "markdown",
   "metadata": {},
   "source": [
    "## find \"bad\" image"
   ]
  },
  {
   "cell_type": "code",
   "execution_count": 18,
   "metadata": {
    "tags": [
     "outputPrepend",
     "outputPrepend",
     "outputPrepend",
     "outputPrepend",
     "outputPrepend",
     "outputPrepend",
     "outputPrepend",
     "outputPrepend",
     "outputPrepend",
     "outputPrepend",
     "outputPrepend",
     "outputPrepend",
     "outputPrepend",
     "outputPrepend",
     "outputPrepend",
     "outputPrepend",
     "outputPrepend",
     "outputPrepend",
     "outputPrepend",
     "outputPrepend",
     "outputPrepend",
     "outputPrepend",
     "outputPrepend",
     "outputPrepend",
     "outputPrepend",
     "outputPrepend",
     "outputPrepend",
     "outputPrepend",
     "outputPrepend",
     "outputPrepend",
     "outputPrepend",
     "outputPrepend",
     "outputPrepend",
     "outputPrepend",
     "outputPrepend",
     "outputPrepend",
     "outputPrepend",
     "outputPrepend",
     "outputPrepend",
     "outputPrepend",
     "outputPrepend",
     "outputPrepend",
     "outputPrepend",
     "outputPrepend",
     "outputPrepend",
     "outputPrepend",
     "outputPrepend",
     "outputPrepend",
     "outputPrepend",
     "outputPrepend",
     "outputPrepend",
     "outputPrepend",
     "outputPrepend",
     "outputPrepend",
     "outputPrepend",
     "outputPrepend",
     "outputPrepend",
     "outputPrepend",
     "outputPrepend",
     "outputPrepend",
     "outputPrepend",
     "outputPrepend",
     "outputPrepend",
     "outputPrepend",
     "outputPrepend",
     "outputPrepend"
    ]
   },
   "outputs": [],
   "source": [
    "from os import listdir\n",
    "from PIL import Image\n",
    "import glob\n",
    "import cv2\n",
    "import shutil\n",
    "count=0\n",
    "import time\n",
    "\n",
    "img_dir=\"D:\\CODE\\CNN\\\\final_project\\\\finalCNN\\dataset\\\\dogs\"\n",
    "\n",
    "filelist = glob.glob(os.path.join(img_dir, \"*.jpg\"))\n",
    "def verify_image(img_file):\n",
    "     #test image\n",
    "     try:\n",
    "        v_image = Image.open(img_file)\n",
    "        v_image.verify()\n",
    "        return True\n",
    "        #is valid\n",
    "        #print(\"valid file: \"+img_file)\n",
    "     except (OSError,FileNotFoundError,ValueError):\n",
    "        return False\n",
    "for root, dirs, files in os.walk(img_dir):\n",
    "    for file in files:\n",
    "        if file.endswith(\".jpg\"):\n",
    "             currentFile=os.path.join(root, file)\n",
    "             #test image\n",
    "             if verify_image(currentFile)==False:\n",
    "                print(\"corrupt file\")\n",
    "                os.remove(currentFile)\n",
    "                print(file)\n",
    "           \n",
    "          \n",
    "            \n",
    "        "
   ]
  },
  {
   "cell_type": "code",
   "execution_count": null,
   "metadata": {},
   "outputs": [],
   "source": [
    "#change type of image"
   ]
  },
  {
   "cell_type": "code",
   "execution_count": 6,
   "metadata": {
    "tags": [
     "outputPrepend",
     "outputPrepend",
     "outputPrepend"
    ]
   },
   "outputs": [],
   "source": [
    "import os \n",
    "from PIL import Image\n",
    "import glob\n",
    "c=0\n",
    "directory =\"D:\\CODE\\CNN\\\\final_project\\\\finalCNN\\dataset\\motobike\" \n",
    "for file in glob.glob(\"D:\\CODE\\CNN\\\\final_project\\\\finalCNN\\dataset\\motobike\\*.png\" ):\n",
    "    img=Image.open(file)\n",
    "    img.save(file.replace(\"png\",\"jpg\"),quality=95)"
   ]
  },
  {
   "cell_type": "code",
   "execution_count": null,
   "metadata": {},
   "outputs": [],
   "source": [
    "##  remove png"
   ]
  },
  {
   "cell_type": "code",
   "execution_count": 14,
   "metadata": {},
   "outputs": [],
   "source": [
    "import glob, os, os.path\n",
    "path=\"D:\\CODE\\CNN\\\\final_project\\\\finalCNN\\dataset\\motobike\"\n",
    "filelist = glob.glob(os.path.join(path, \"*.jpg\"))\n",
    "for f in filelist:\n",
    "    os.remove(f)"
   ]
  },
  {
   "cell_type": "markdown",
   "metadata": {},
   "source": [
    "## rename"
   ]
  },
  {
   "cell_type": "code",
   "execution_count": 20,
   "metadata": {},
   "outputs": [],
   "source": [
    "path =\"D:\\CODE\\CNN\\\\final_project\\\\finalCNN\\dataset\\\\cats\"\n",
    "i = 0\n",
    "for filename in os.listdir(path):\n",
    "    os.rename(os.path.join(path,filename), os.path.join(path,'cat'+str(i)+'.jpg'))\n",
    "    i = i +1"
   ]
  },
  {
   "cell_type": "markdown",
   "metadata": {},
   "source": [
    "## convert rgba to rgb"
   ]
  },
  {
   "cell_type": "code",
   "execution_count": 42,
   "metadata": {},
   "outputs": [],
   "source": [
    "from PIL.BmpImagePlugin import Image\n",
    "path=path =\"D:\\CODE\\CNN\\\\final_project\\\\finalCNN\\dataset\\motobike\"\n",
    "i=0\n",
    "for filename in os.listdir(path):\n",
    "     img = Image.open(\"D:\\CODE\\CNN\\\\final_project\\\\finalCNN\\dataset\\motobike\\motobike\"+str(i)+\".jpg\")\n",
    "     new_img = img.convert('RGB')\n",
    "     new_img.save(\"D:\\CODE\\CNN\\\\final_project\\\\finalCNN\\dataset\\motobike\\motobike\"+str(i)+\".jpg\", \"\", optimize=True)\n",
    "     i=i+1"
   ]
  },
  {
   "cell_type": "markdown",
   "metadata": {},
   "source": [
    "### change to 32x32"
   ]
  },
  {
   "cell_type": "code",
   "execution_count": 10,
   "metadata": {},
   "outputs": [
    {
     "output_type": "stream",
     "name": "stdout",
     "text": "(32, 32)\n(32, 32)\n(32, 32)\n(32, 21)\n(18, 32)\n(21, 32)\n(19, 32)\n(23, 32)\n(32, 21)\n(32, 23)\n(32, 21)\n(32, 21)\n(32, 32)\n(32, 21)\n(21, 32)\n(24, 32)\n(32, 24)\n(32, 32)\n(32, 20)\n(28, 32)\n(32, 18)\n(26, 32)\n(32, 32)\n(25, 32)\n(32, 18)\n(32, 24)\n(24, 32)\n(32, 32)\n(23, 32)\n(20, 32)\n(32, 21)\n(32, 21)\n(21, 32)\n(21, 32)\n(32, 19)\n(32, 32)\n(16, 32)\n(32, 32)\n(32, 21)\n(32, 32)\n(24, 32)\n(18, 32)\n(32, 21)\n(32, 18)\n(24, 32)\n(32, 18)\n(26, 32)\n(32, 32)\n(29, 32)\n(32, 24)\n(32, 22)\n(26, 32)\n(32, 32)\n(32, 21)\n(32, 29)\n(32, 21)\n(32, 21)\n(32, 22)\n(32, 18)\n(32, 23)\n(22, 32)\n(20, 32)\n(26, 32)\n(26, 32)\n(21, 32)\n(32, 25)\n(32, 18)\n(32, 32)\n(32, 21)\n(32, 24)\n(23, 32)\n(32, 23)\n(32, 22)\n(21, 32)\n(32, 21)\n(32, 23)\n(32, 24)\n(21, 32)\n(32, 22)\n(24, 32)\n(32, 18)\n(21, 32)\n(32, 20)\n(32, 32)\n(32, 31)\n(24, 32)\n(32, 21)\n(23, 32)\n(21, 32)\n(32, 25)\n(26, 32)\n(32, 18)\n(32, 32)\n(32, 24)\n(24, 32)\n(32, 21)\n(32, 21)\n(32, 26)\n(32, 32)\n(32, 17)\n(26, 32)\n(32, 18)\n(32, 21)\n(32, 32)\n(32, 23)\n(32, 16)\n(32, 21)\n(32, 18)\n(24, 32)\n(21, 32)\n(24, 32)\n(32, 27)\n(21, 32)\n(21, 32)\n(21, 32)\n(32, 21)\n(32, 18)\n(18, 32)\n(32, 32)\n(32, 18)\n(32, 21)\n(32, 24)\n(32, 18)\n(24, 32)\n(21, 32)\n(25, 32)\n(32, 21)\n(32, 32)\n(32, 21)\n(24, 32)\n(24, 32)\n(22, 32)\n(32, 10)\n(23, 32)\n(32, 32)\n(32, 18)\n(32, 24)\n(32, 20)\n(32, 19)\n(32, 16)\n(32, 32)\n(32, 17)\n(23, 32)\n(32, 23)\n(32, 18)\n(32, 24)\n(26, 32)\n(26, 32)\n(32, 21)\n(32, 24)\n(26, 32)\n(24, 32)\n(32, 21)\n(26, 32)\n(32, 18)\n(32, 32)\n(32, 18)\n(32, 28)\n(32, 32)\n(32, 18)\n(32, 25)\n(32, 19)\n(32, 21)\n(32, 21)\n(32, 18)\n(32, 24)\n(22, 32)\n(32, 32)\n(32, 21)\n(32, 21)\n(32, 18)\n(24, 32)\n(32, 21)\n(27, 32)\n(32, 24)\n(32, 32)\n(26, 32)\n(23, 32)\n(26, 32)\n(32, 30)\n(32, 32)\n(23, 32)\n(32, 21)\n(32, 32)\n(31, 32)\n(32, 32)\n(32, 21)\n(32, 16)\n(21, 32)\n(25, 32)\n(26, 32)\n(32, 21)\n(32, 21)\n(32, 21)\n(20, 32)\n(32, 26)\n(32, 21)\n(21, 32)\n(32, 18)\n(21, 32)\n(24, 32)\n(32, 21)\n(21, 32)\n(32, 18)\n(32, 32)\n(25, 32)\n(32, 32)\n(32, 18)\n(32, 19)\n(32, 32)\n(21, 32)\n(20, 32)\n(32, 21)\n(32, 22)\n(32, 21)\n(32, 24)\n(25, 32)\n(32, 21)\n(32, 32)\n(32, 23)\n(32, 18)\n(32, 21)\n(32, 32)\n(22, 32)\n(23, 32)\n(32, 21)\n(32, 32)\n(23, 32)\n(32, 22)\n(32, 32)\n(21, 32)\n(21, 32)\n(32, 21)\n(24, 32)\n(24, 32)\n(21, 32)\n(32, 23)\n(32, 25)\n(32, 18)\n(32, 32)\n(32, 18)\n(24, 32)\n(22, 32)\n(23, 32)\n(21, 32)\n(32, 18)\n(32, 14)\n(21, 32)\n(14, 32)\n(32, 25)\n(32, 32)\n(32, 31)\n(27, 32)\n(23, 32)\n(32, 32)\n"
    },
    {
     "output_type": "error",
     "ename": "UnidentifiedImageError",
     "evalue": "cannot identify image file 'D:\\\\CODE\\\\CNN\\\\final_project\\\\finalCNN\\\\dataset\\\\human\\\\human255.jpg'",
     "traceback": [
      "\u001b[1;31m---------------------------------------------------------------------------\u001b[0m",
      "\u001b[1;31mUnidentifiedImageError\u001b[0m                    Traceback (most recent call last)",
      "\u001b[1;32m<ipython-input-10-7ce4230503b0>\u001b[0m in \u001b[0;36m<module>\u001b[1;34m\u001b[0m\n\u001b[0;32m      4\u001b[0m \u001b[0mi\u001b[0m\u001b[1;33m=\u001b[0m\u001b[1;36m0\u001b[0m\u001b[1;33m\u001b[0m\u001b[1;33m\u001b[0m\u001b[0m\n\u001b[0;32m      5\u001b[0m \u001b[1;32mfor\u001b[0m \u001b[0mfilename\u001b[0m \u001b[1;32min\u001b[0m \u001b[0mos\u001b[0m\u001b[1;33m.\u001b[0m\u001b[0mlistdir\u001b[0m\u001b[1;33m(\u001b[0m\u001b[0mpath\u001b[0m\u001b[1;33m)\u001b[0m\u001b[1;33m:\u001b[0m\u001b[1;33m\u001b[0m\u001b[1;33m\u001b[0m\u001b[0m\n\u001b[1;32m----> 6\u001b[1;33m    \u001b[0mimg\u001b[0m\u001b[1;33m=\u001b[0m\u001b[0mImage\u001b[0m\u001b[1;33m.\u001b[0m\u001b[0mopen\u001b[0m\u001b[1;33m(\u001b[0m\u001b[0mpath\u001b[0m\u001b[1;33m+\u001b[0m\u001b[1;34m\"human\"\u001b[0m\u001b[1;33m+\u001b[0m\u001b[0mstr\u001b[0m\u001b[1;33m(\u001b[0m\u001b[0mi\u001b[0m\u001b[1;33m)\u001b[0m\u001b[1;33m+\u001b[0m\u001b[1;34m'.jpg'\u001b[0m\u001b[1;33m)\u001b[0m\u001b[1;33m\u001b[0m\u001b[1;33m\u001b[0m\u001b[0m\n\u001b[0m\u001b[0;32m      7\u001b[0m    \u001b[0mimg\u001b[0m\u001b[1;33m.\u001b[0m\u001b[0mthumbnail\u001b[0m\u001b[1;33m(\u001b[0m\u001b[1;33m(\u001b[0m\u001b[1;36m32\u001b[0m\u001b[1;33m,\u001b[0m\u001b[1;36m32\u001b[0m\u001b[1;33m)\u001b[0m\u001b[1;33m)\u001b[0m\u001b[1;33m\u001b[0m\u001b[1;33m\u001b[0m\u001b[0m\n\u001b[0;32m      8\u001b[0m    \u001b[0mimg\u001b[0m\u001b[1;33m.\u001b[0m\u001b[0msave\u001b[0m\u001b[1;33m(\u001b[0m\u001b[0mpath\u001b[0m\u001b[1;33m+\u001b[0m\u001b[0mstr\u001b[0m\u001b[1;33m(\u001b[0m\u001b[0mi\u001b[0m\u001b[1;33m)\u001b[0m\u001b[1;33m+\u001b[0m\u001b[1;34m\".jpg\"\u001b[0m\u001b[1;33m)\u001b[0m\u001b[1;33m\u001b[0m\u001b[1;33m\u001b[0m\u001b[0m\n",
      "\u001b[1;32mC:\\ProgramData\\Anaconda3\\lib\\site-packages\\pil\\Image.py\u001b[0m in \u001b[0;36mopen\u001b[1;34m(fp, mode)\u001b[0m\n\u001b[0;32m   2894\u001b[0m         \u001b[0mwarnings\u001b[0m\u001b[1;33m.\u001b[0m\u001b[0mwarn\u001b[0m\u001b[1;33m(\u001b[0m\u001b[0mmessage\u001b[0m\u001b[1;33m)\u001b[0m\u001b[1;33m\u001b[0m\u001b[1;33m\u001b[0m\u001b[0m\n\u001b[0;32m   2895\u001b[0m     raise UnidentifiedImageError(\n\u001b[1;32m-> 2896\u001b[1;33m         \u001b[1;34m\"cannot identify image file %r\"\u001b[0m \u001b[1;33m%\u001b[0m \u001b[1;33m(\u001b[0m\u001b[0mfilename\u001b[0m \u001b[1;32mif\u001b[0m \u001b[0mfilename\u001b[0m \u001b[1;32melse\u001b[0m \u001b[0mfp\u001b[0m\u001b[1;33m)\u001b[0m\u001b[1;33m\u001b[0m\u001b[1;33m\u001b[0m\u001b[0m\n\u001b[0m\u001b[0;32m   2897\u001b[0m     )\n\u001b[0;32m   2898\u001b[0m \u001b[1;33m\u001b[0m\u001b[0m\n",
      "\u001b[1;31mUnidentifiedImageError\u001b[0m: cannot identify image file 'D:\\\\CODE\\\\CNN\\\\final_project\\\\finalCNN\\\\dataset\\\\human\\\\human255.jpg'"
     ]
    }
   ],
   "source": [
    "from pil import Image\n",
    "import pathlib\n",
    "path=path =\"D:\\CODE\\CNN\\\\final_project\\\\finalCNN\\dataset\\human\\\\\"\n",
    "i=0\n",
    "for filename in os.listdir(path):\n",
    "   img=Image.open(path+\"human\"+str(i)+'.jpg')\n",
    "   img.thumbnail((32,32))\n",
    "   img.save(path+str(i)+\".jpg\")\n",
    "   i=i+1\n",
    "   print(img.size)\n"
   ]
  },
  {
   "cell_type": "code",
   "execution_count": null,
   "metadata": {},
   "outputs": [],
   "source": []
  }
 ],
 "metadata": {
  "language_info": {
   "codemirror_mode": {
    "name": "ipython",
    "version": 3
   },
   "file_extension": ".py",
   "mimetype": "text/x-python",
   "name": "python",
   "nbconvert_exporter": "python",
   "pygments_lexer": "ipython3",
   "version": "3.7.6-final"
  },
  "orig_nbformat": 2,
  "kernelspec": {
   "name": "python3",
   "display_name": "Python 3"
  }
 },
 "nbformat": 4,
 "nbformat_minor": 2
}