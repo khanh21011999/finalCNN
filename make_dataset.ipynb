{
 "cells": [
  {
   "cell_type": "code",
   "execution_count": 6,
   "metadata": {},
   "outputs": [],
   "source": [
    "from PIL import Image\n",
    "from pathlib import *\n",
    "import numpy as np\n"
   ]
  },
  {
   "cell_type": "markdown",
   "metadata": {},
   "source": [
    "## find \"bad\" image"
   ]
  },
  {
   "cell_type": "code",
   "execution_count": 19,
   "metadata": {
    "tags": [
     "outputPrepend",
     "outputPrepend",
     "outputPrepend",
     "outputPrepend",
     "outputPrepend",
     "outputPrepend",
     "outputPrepend",
     "outputPrepend",
     "outputPrepend",
     "outputPrepend",
     "outputPrepend",
     "outputPrepend",
     "outputPrepend",
     "outputPrepend",
     "outputPrepend",
     "outputPrepend",
     "outputPrepend",
     "outputPrepend",
     "outputPrepend",
     "outputPrepend",
     "outputPrepend",
     "outputPrepend",
     "outputPrepend",
     "outputPrepend",
     "outputPrepend",
     "outputPrepend",
     "outputPrepend",
     "outputPrepend",
     "outputPrepend",
     "outputPrepend",
     "outputPrepend",
     "outputPrepend",
     "outputPrepend",
     "outputPrepend",
     "outputPrepend",
     "outputPrepend",
     "outputPrepend",
     "outputPrepend",
     "outputPrepend",
     "outputPrepend",
     "outputPrepend",
     "outputPrepend",
     "outputPrepend",
     "outputPrepend",
     "outputPrepend",
     "outputPrepend",
     "outputPrepend",
     "outputPrepend",
     "outputPrepend",
     "outputPrepend",
     "outputPrepend",
     "outputPrepend",
     "outputPrepend",
     "outputPrepend",
     "outputPrepend",
     "outputPrepend",
     "outputPrepend",
     "outputPrepend",
     "outputPrepend",
     "outputPrepend",
     "outputPrepend",
     "outputPrepend",
     "outputPrepend",
     "outputPrepend",
     "outputPrepend",
     "outputPrepend"
    ]
   },
   "outputs": [
    {
     "output_type": "stream",
     "name": "stdout",
     "text": "corrupt file\n11p-Real-Touch-Rose-Flower-Pink-blue-black-red-yellow-Purple-PU-Roses-Artificial-Rose-43cm.jpg\ncorrupt file\n12864_1.jpg\ncorrupt file\n15pcs-10cm-Artificial-PU-Lotus-Flowers-DIY-Home-Decoration-Accessories-Fake-Flower-Fish-Tank-Water-Lily.jpg\ncorrupt file\nblue-cornflowers-garden-japan-260nw-1110071285.jpg\ncorrupt file\nHc060b731d4d5406e9708d8e9deb5b34eH.jpg\ncorrupt file\nHTB1levqc1ySBuNjy1zdq6xPxFXaj.jpg\ncorrupt file\nHTB1TSGghbSYBuNjSspiq6xNzpXa3.jpg\ncorrupt file\nlight-blue-flower-on-white-260nw-526400839.jpg\ncorrupt file\nsmycka-artificial-flower-sunflower-yellow__0797552_PE767319_S5JPG.jpg\ncorrupt file\ntropical-flowers-palm-leaves-jungle-260nw-622250576.jpg\ncorrupt file\ntropical-vector-flowers-card-floral-260nw-1081666871.jpg\n"
    }
   ],
   "source": [
    "from os import listdir\n",
    "import glob\n",
    "import cv2\n",
    "import shutil\n",
    "count=0\n",
    "import time\n",
    "\n",
    "img_dir=\"D:\\CODE\\CNN\\\\final_project\\\\finalCNN\\dataset\\\\flowers\"\n",
    "\n",
    "filelist = glob.glob(os.path.join(img_dir, \"*.jpg\"))\n",
    "def verify_image(img_file):\n",
    "     #test image\n",
    "     try:\n",
    "        v_image = Image.open(img_file)\n",
    "        v_image.verify()\n",
    "        return True\n",
    "        #is valid\n",
    "        #print(\"valid file: \"+img_file)\n",
    "     except (OSError,FileNotFoundError,ValueError,UnidentifiedImageError):\n",
    "        return False\n",
    "for root, dirs, files in os.walk(img_dir):\n",
    "    for file in files:\n",
    "        if file.endswith(\".jpg\"):\n",
    "             currentFile=os.path.join(root, file)\n",
    "             #test image\n",
    "             if verify_image(currentFile)==False:\n",
    "                print(\"corrupt file\")\n",
    "                os.remove(currentFile)\n",
    "                print(file)\n",
    "           \n",
    "          \n",
    "            \n",
    "        "
   ]
  },
  {
   "cell_type": "markdown",
   "metadata": {},
   "source": [
    "# rename"
   ]
  },
  {
   "cell_type": "code",
   "execution_count": 22,
   "metadata": {},
   "outputs": [],
   "source": [
    "path =\"D:\\CODE\\CNN\\\\final_project\\\\finalCNN\\dataset\\\\flowers\"\n",
    "i = 0\n",
    "for filename in os.listdir(path):\n",
    "    os.rename(os.path.join(path,filename), os.path.join(path,'flower'+str(i)+'.jpg'))\n",
    "    i = i +1"
   ]
  },
  {
   "cell_type": "markdown",
   "metadata": {},
   "source": [
    "## RGBA TO RGB"
   ]
  },
  {
   "cell_type": "code",
   "execution_count": 14,
   "metadata": {},
   "outputs": [],
   "source": [
    "from PIL.BmpImagePlugin import Image\n",
    "path=\"D:\\CODE\\CNN\\\\final_project\\\\finalCNN\\dataset\\phones\"\n",
    "i=0\n",
    "for filename in os.listdir(path):\n",
    "     img = Image.open(path+'\\phone'+str(i)+\".jpg\")\n",
    "     new_img = img.convert('RGB')\n",
    "     new_img.save(path+'\\phone'+str(i)+\".jpg\", \"\", optimize=True)\n",
    "     i=i+1"
   ]
  },
  {
   "cell_type": "code",
   "execution_count": null,
   "metadata": {},
   "outputs": [],
   "source": [
    "# change type of imgage"
   ]
  },
  {
   "cell_type": "code",
   "execution_count": 6,
   "metadata": {
    "tags": [
     "outputPrepend",
     "outputPrepend",
     "outputPrepend"
    ]
   },
   "outputs": [],
   "source": [
    "import os \n",
    "from PIL import Image\n",
    "import glob\n",
    "c=0\n",
    "directory =\"D:\\CODE\\CNN\\\\final_project\\\\finalCNN\\dataset\\motobike\" \n",
    "for file in glob.glob(\"D:\\CODE\\CNN\\\\final_project\\\\finalCNN\\dataset\\motobike\\*.png\" ):\n",
    "    img=Image.open(file)\n",
    "    img.save(file.replace(\"png\",\"jpg\"),quality=95)"
   ]
  },
  {
   "cell_type": "markdown",
   "metadata": {},
   "source": [
    "##  remove png"
   ]
  },
  {
   "cell_type": "code",
   "execution_count": 14,
   "metadata": {},
   "outputs": [],
   "source": [
    "import glob, os, os.path\n",
    "path=\"D:\\CODE\\CNN\\\\final_project\\\\finalCNN\\dataset\\motobike\"\n",
    "filelist = glob.glob(os.path.join(path, \"*.jpg\"))\n",
    "for f in filelist:\n",
    "    os.remove(f)"
   ]
  }
 ],
 "metadata": {
  "language_info": {
   "codemirror_mode": {
    "name": "ipython",
    "version": 3
   },
   "file_extension": ".py",
   "mimetype": "text/x-python",
   "name": "python",
   "nbconvert_exporter": "python",
   "pygments_lexer": "ipython3",
   "version": "3.7.6-final"
  },
  "orig_nbformat": 2,
  "kernelspec": {
   "name": "python3",
   "display_name": "Python 3"
  }
 },
 "nbformat": 4,
 "nbformat_minor": 2
}